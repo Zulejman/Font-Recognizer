{
 "cells": [
  {
   "cell_type": "code",
   "execution_count": 191,
   "id": "92d02870",
   "metadata": {},
   "outputs": [],
   "source": [
    "#Data loader, loads your .csv with image data\n",
    "import numpy as np\n",
    "import pandas as pd\n",
    "from matplotlib import pyplot as plt\n",
    "import csv\n",
    "import cv2 as cv\n",
    "import random\n",
    "from sklearn.metrics import confusion_matrix"
   ]
  },
  {
   "cell_type": "code",
   "execution_count": 201,
   "id": "cb07f827",
   "metadata": {},
   "outputs": [],
   "source": [
    "#Enter absolute path to your dataset:\n",
    "my_dir_path = \"/home/zule/anaconda3/envs/AlpNum/Font-Recognizer\"\n",
    "data = pd.read_csv(my_dir_path + \"/dataset_table.csv\")"
   ]
  },
  {
   "cell_type": "code",
   "execution_count": 202,
   "id": "57849ba4",
   "metadata": {},
   "outputs": [
    {
     "data": {
      "text/html": [
       "<div>\n",
       "<style scoped>\n",
       "    .dataframe tbody tr th:only-of-type {\n",
       "        vertical-align: middle;\n",
       "    }\n",
       "\n",
       "    .dataframe tbody tr th {\n",
       "        vertical-align: top;\n",
       "    }\n",
       "\n",
       "    .dataframe thead th {\n",
       "        text-align: right;\n",
       "    }\n",
       "</style>\n",
       "<table border=\"1\" class=\"dataframe\">\n",
       "  <thead>\n",
       "    <tr style=\"text-align: right;\">\n",
       "      <th></th>\n",
       "      <th>label</th>\n",
       "      <th>pixel0</th>\n",
       "      <th>pixel1</th>\n",
       "      <th>pixel2</th>\n",
       "      <th>pixel3</th>\n",
       "      <th>pixel4</th>\n",
       "      <th>pixel5</th>\n",
       "      <th>pixel6</th>\n",
       "      <th>pixel7</th>\n",
       "      <th>pixel8</th>\n",
       "      <th>...</th>\n",
       "      <th>pixel6262</th>\n",
       "      <th>pixel6263</th>\n",
       "      <th>pixel6264</th>\n",
       "      <th>pixel6265</th>\n",
       "      <th>pixel6266</th>\n",
       "      <th>pixel6267</th>\n",
       "      <th>pixel6268</th>\n",
       "      <th>pixel6269</th>\n",
       "      <th>pixel6270</th>\n",
       "      <th>pixel6271</th>\n",
       "    </tr>\n",
       "  </thead>\n",
       "  <tbody>\n",
       "    <tr>\n",
       "      <th>0</th>\n",
       "      <td>0</td>\n",
       "      <td>0</td>\n",
       "      <td>0</td>\n",
       "      <td>0</td>\n",
       "      <td>0</td>\n",
       "      <td>0</td>\n",
       "      <td>0</td>\n",
       "      <td>0</td>\n",
       "      <td>0</td>\n",
       "      <td>0</td>\n",
       "      <td>...</td>\n",
       "      <td>0</td>\n",
       "      <td>0</td>\n",
       "      <td>0</td>\n",
       "      <td>0</td>\n",
       "      <td>0</td>\n",
       "      <td>0</td>\n",
       "      <td>0</td>\n",
       "      <td>0</td>\n",
       "      <td>0</td>\n",
       "      <td>0</td>\n",
       "    </tr>\n",
       "    <tr>\n",
       "      <th>1</th>\n",
       "      <td>0</td>\n",
       "      <td>0</td>\n",
       "      <td>0</td>\n",
       "      <td>0</td>\n",
       "      <td>0</td>\n",
       "      <td>0</td>\n",
       "      <td>0</td>\n",
       "      <td>0</td>\n",
       "      <td>0</td>\n",
       "      <td>0</td>\n",
       "      <td>...</td>\n",
       "      <td>0</td>\n",
       "      <td>0</td>\n",
       "      <td>0</td>\n",
       "      <td>0</td>\n",
       "      <td>0</td>\n",
       "      <td>0</td>\n",
       "      <td>0</td>\n",
       "      <td>0</td>\n",
       "      <td>0</td>\n",
       "      <td>0</td>\n",
       "    </tr>\n",
       "    <tr>\n",
       "      <th>2</th>\n",
       "      <td>0</td>\n",
       "      <td>0</td>\n",
       "      <td>0</td>\n",
       "      <td>0</td>\n",
       "      <td>0</td>\n",
       "      <td>0</td>\n",
       "      <td>0</td>\n",
       "      <td>0</td>\n",
       "      <td>0</td>\n",
       "      <td>0</td>\n",
       "      <td>...</td>\n",
       "      <td>0</td>\n",
       "      <td>0</td>\n",
       "      <td>0</td>\n",
       "      <td>0</td>\n",
       "      <td>0</td>\n",
       "      <td>0</td>\n",
       "      <td>0</td>\n",
       "      <td>0</td>\n",
       "      <td>0</td>\n",
       "      <td>0</td>\n",
       "    </tr>\n",
       "    <tr>\n",
       "      <th>3</th>\n",
       "      <td>0</td>\n",
       "      <td>0</td>\n",
       "      <td>0</td>\n",
       "      <td>0</td>\n",
       "      <td>0</td>\n",
       "      <td>0</td>\n",
       "      <td>0</td>\n",
       "      <td>0</td>\n",
       "      <td>0</td>\n",
       "      <td>0</td>\n",
       "      <td>...</td>\n",
       "      <td>0</td>\n",
       "      <td>0</td>\n",
       "      <td>0</td>\n",
       "      <td>0</td>\n",
       "      <td>0</td>\n",
       "      <td>0</td>\n",
       "      <td>0</td>\n",
       "      <td>0</td>\n",
       "      <td>0</td>\n",
       "      <td>0</td>\n",
       "    </tr>\n",
       "    <tr>\n",
       "      <th>4</th>\n",
       "      <td>0</td>\n",
       "      <td>0</td>\n",
       "      <td>0</td>\n",
       "      <td>0</td>\n",
       "      <td>0</td>\n",
       "      <td>0</td>\n",
       "      <td>0</td>\n",
       "      <td>0</td>\n",
       "      <td>0</td>\n",
       "      <td>0</td>\n",
       "      <td>...</td>\n",
       "      <td>0</td>\n",
       "      <td>0</td>\n",
       "      <td>0</td>\n",
       "      <td>0</td>\n",
       "      <td>0</td>\n",
       "      <td>0</td>\n",
       "      <td>0</td>\n",
       "      <td>0</td>\n",
       "      <td>0</td>\n",
       "      <td>0</td>\n",
       "    </tr>\n",
       "  </tbody>\n",
       "</table>\n",
       "<p>5 rows × 6273 columns</p>\n",
       "</div>"
      ],
      "text/plain": [
       "   label  pixel0  pixel1  pixel2  pixel3  pixel4  pixel5  pixel6  pixel7  \\\n",
       "0      0       0       0       0       0       0       0       0       0   \n",
       "1      0       0       0       0       0       0       0       0       0   \n",
       "2      0       0       0       0       0       0       0       0       0   \n",
       "3      0       0       0       0       0       0       0       0       0   \n",
       "4      0       0       0       0       0       0       0       0       0   \n",
       "\n",
       "   pixel8  ...  pixel6262  pixel6263  pixel6264  pixel6265  pixel6266  \\\n",
       "0       0  ...          0          0          0          0          0   \n",
       "1       0  ...          0          0          0          0          0   \n",
       "2       0  ...          0          0          0          0          0   \n",
       "3       0  ...          0          0          0          0          0   \n",
       "4       0  ...          0          0          0          0          0   \n",
       "\n",
       "   pixel6267  pixel6268  pixel6269  pixel6270  pixel6271  \n",
       "0          0          0          0          0          0  \n",
       "1          0          0          0          0          0  \n",
       "2          0          0          0          0          0  \n",
       "3          0          0          0          0          0  \n",
       "4          0          0          0          0          0  \n",
       "\n",
       "[5 rows x 6273 columns]"
      ]
     },
     "execution_count": 202,
     "metadata": {},
     "output_type": "execute_result"
    }
   ],
   "source": [
    "data.head()"
   ]
  },
  {
   "cell_type": "code",
   "execution_count": 203,
   "id": "31b68e20",
   "metadata": {},
   "outputs": [],
   "source": [
    "#Label Loader, loads .csv with font labels\n",
    "label_file = my_dir_path + '/font_labels.csv'\n",
    "label_dict = {}\n",
    "\n",
    "with open(label_file,'r') as font_data_file:\n",
    "    for name, label in csv.reader(font_data_file):\n",
    "        label_dict[label] = name"
   ]
  },
  {
   "cell_type": "code",
   "execution_count": 204,
   "id": "0c1d5d28",
   "metadata": {},
   "outputs": [],
   "source": [
    "#Data arange, shuffle and splitting into train and validation data\n",
    "data = np.array(data)\n",
    "m, n = data.shape\n",
    "np.random.shuffle(data) # shuffle before splitting into dev and training sets\n"
   ]
  },
  {
   "cell_type": "code",
   "execution_count": 205,
   "id": "172bddc3",
   "metadata": {},
   "outputs": [
    {
     "name": "stdout",
     "output_type": "stream",
     "text": [
      "4750 6273\n"
     ]
    }
   ],
   "source": [
    "print(m, n)"
   ]
  },
  {
   "cell_type": "code",
   "execution_count": 206,
   "id": "4b253f5d",
   "metadata": {},
   "outputs": [],
   "source": [
    "#Add range for data. One_hot(y) must be set to array size\n",
    "#data_dev = data[0:int(n/2)+1].T\n",
    "data_dev = data[0:950].T\n",
    "Y_dev = data_dev[0]\n",
    "X_dev = data_dev[1:n] \n",
    "X_dev = X_dev / 255.\n",
    "\n",
    "#Train data from n to 0, as the initial variable returns empty numpy array\n",
    "#data_train = data[8000:m].T\n",
    "#data_train = data[int(n/2):].T\n",
    "data_train = data[950:].T\n",
    "Y_train = data_train[0]\n",
    "X_train = data_train[1:n] \n",
    "X_train = X_train / 255.\n",
    "_,m_train = X_train.shape"
   ]
  },
  {
   "cell_type": "code",
   "execution_count": 198,
   "id": "e5d75a6c",
   "metadata": {},
   "outputs": [],
   "source": [
    "#Weigth and bias params initialization\n",
    "\n",
    "#Random values from -0.5 to 0.5\n",
    "def init_params():\n",
    "    W1 = np.random.rand(10, 6272) - 0.5\n",
    "    b1 = np.random.rand(10, 1) - 0.5\n",
    "    W2 = np.random.rand(10, 10) - 0.5\n",
    "    b2 = np.random.rand(10, 1) - 0.5\n",
    "    return W1, b1, W2, b2\n",
    "\n",
    "#ReLU actiavtion function, Z[1]\n",
    "def ReLU(Z):\n",
    "    return np.maximum(Z, 0)\n",
    "\n",
    "#Softmax actiavtion function, Z[2]\n",
    "def softmax(Z):\n",
    "    A = np.exp(Z) / sum(np.exp(Z))\n",
    "    return A\n",
    "    \n",
    "def forward_prop(W1, b1, W2, b2, X):\n",
    "    Z1 = W1.dot(X) + b1\n",
    "    A1 = ReLU(Z1)\n",
    "    Z2 = W2.dot(A1) + b2\n",
    "    A2 = softmax(Z2)\n",
    "    return Z1, A1, Z2, A2\n",
    "\n",
    "#Derivation for back propagation\n",
    "def ReLU_deriv(Z):\n",
    "    return Z > 0\n",
    "\n",
    "def one_hot(Y):\n",
    "    one_hot_Y = np.zeros((Y.size, Y.max() + 1))\n",
    "    one_hot_Y[np.arange(Y.size), Y] = 1\n",
    "    one_hot_Y = one_hot_Y.T\n",
    "    return one_hot_Y\n",
    "\n",
    "def backward_prop(Z1, A1, Z2, A2, W1, W2, X, Y):\n",
    "    one_hot_Y = one_hot(Y)\n",
    "    dZ2 = A2 - one_hot_Y\n",
    "    dW2 = 1 / m * dZ2.dot(A1.T)\n",
    "    db2 = 1 / m * np.sum(dZ2)\n",
    "    dZ1 = W2.T.dot(dZ2) * ReLU_deriv(Z1)\n",
    "    dW1 = 1 / m * dZ1.dot(X.T)\n",
    "    db1 = 1 / m * np.sum(dZ1)\n",
    "    return dW1, db1, dW2, db2\n",
    "\n",
    "def update_params(W1, b1, W2, b2, dW1, db1, dW2, db2, alpha):\n",
    "    W1 = W1 - alpha * dW1\n",
    "    b1 = b1 - alpha * db1    \n",
    "    W2 = W2 - alpha * dW2  \n",
    "    b2 = b2 - alpha * db2    \n",
    "    return W1, b1, W2, b2"
   ]
  },
  {
   "cell_type": "code",
   "execution_count": 199,
   "id": "778b7047",
   "metadata": {},
   "outputs": [],
   "source": [
    "def get_predictions(A2):\n",
    "    return np.argmax(A2, 0)\n",
    "\n",
    "def get_accuracy(predictions, Y):\n",
    "    #print(predictions, Y)\n",
    "    #print(np.sum(predictions == Y) / Y.size)\n",
    "    return np.sum(predictions == Y) / Y.size\n",
    "\n",
    "def get_class_accuracy(predictions, Y):\n",
    "    unique_classes = np.unique(Y)\n",
    "    class_accuracies = {}\n",
    "    \n",
    "    for unique_class in unique_classes:\n",
    "\n",
    "        class_indices = np.where(Y == unique_class)[0]\n",
    "        class_predictions = predictions[class_indices]\n",
    "        class_true_labels = Y[class_indices]\n",
    "        class_accuracy = np.sum(class_predictions == class_true_labels) / len(class_indices)\n",
    "        class_accuracies[unique_class] = class_accuracy\n",
    "    \n",
    "    return class_accuracies\n",
    "\n",
    "def pretty_print_conf_matrix(conf_matrix):\n",
    "    # Convert the numpy array to a pandas DataFrame\n",
    "    df = pd.DataFrame(conf_matrix, index=[f\"Actual {i}\" for i in range(10)], columns=[f\"Predicted {i}\" for i in range(10)])\n",
    "    \n",
    "    # Add a 'Total' column to show the total number of instances for each actual class\n",
    "    df['Total'] = df.sum(axis=1)\n",
    "    \n",
    "    # Add a 'Total' row to show the total number of instances for each predicted class\n",
    "    df.loc['Total'] = df.sum()\n",
    "    \n",
    "    print(\"Enhanced Confusion Matrix:\")\n",
    "    print(df)\n",
    "\n",
    "def gradient_descent(X, Y, alpha, iterations):\n",
    "    W1, b1, W2, b2 = init_params()\n",
    "    number_of_iteration = []\n",
    "    accuracy_of_iteration = []\n",
    "    for i in range(iterations):\n",
    "        Z1, A1, Z2, A2 = forward_prop(W1, b1, W2, b2, X)\n",
    "        dW1, db1, dW2, db2 = backward_prop(Z1, A1, Z2, A2, W1, W2, X, Y)\n",
    "        W1, b1, W2, b2 = update_params(W1, b1, W2, b2, dW1, db1, dW2, db2, alpha)\n",
    "        if i % 100 == 0:\n",
    "            print(\"Iteration: \", i)\n",
    "            predictions = get_predictions(A2)\n",
    "            number_of_iteration.append(i)\n",
    "            print(get_accuracy(predictions, Y))\n",
    "            accuracy_of_iteration.append(get_accuracy(predictions, Y))\n",
    "            class_accuracies = get_class_accuracy(predictions, Y)\n",
    "            print(\"Class-wise Accuracies:\", class_accuracies)\n",
    "            conf_matrix = confusion_matrix(Y, predictions)\n",
    "            # Pretty print the confusion matrix\n",
    "            pretty_print_conf_matrix(conf_matrix)\n",
    "    return W1, b1, W2, b2, number_of_iteration, accuracy_of_iteration"
   ]
  },
  {
   "cell_type": "code",
   "execution_count": 207,
   "id": "331a8aad",
   "metadata": {},
   "outputs": [
    {
     "name": "stdout",
     "output_type": "stream",
     "text": [
      "Iteration:  0\n",
      "0.10473684210526316\n",
      "Class-wise Accuracies: {0: 0.031914893617021274, 1: 0.8968253968253969, 2: 0.02295918367346939, 3: 0.0, 4: 0.0, 5: 0.0026455026455026454, 6: 0.0, 7: 0.04054054054054054, 8: 0.03787878787878788, 9: 0.01837270341207349}\n",
      "Enhanced Confusion Matrix:\n",
      "          Predicted 0  Predicted 1  Predicted 2  Predicted 3  Predicted 4  \\\n",
      "Actual 0           12          305            6            0            0   \n",
      "Actual 1            2          339            0            0            0   \n",
      "Actual 2           14          328            9            0            0   \n",
      "Actual 3            8          347            3            0            0   \n",
      "Actual 4           15          338            1            0            0   \n",
      "Actual 5           10          338            2            0            0   \n",
      "Actual 6            9          339            0            0            0   \n",
      "Actual 7            3          338            7            0            0   \n",
      "Actual 8            4          356            1            3            0   \n",
      "Actual 9            8          315            3            1            0   \n",
      "Total              85         3343           32            4            0   \n",
      "\n",
      "          Predicted 5  Predicted 6  Predicted 7  Predicted 8  Predicted 9  \\\n",
      "Actual 0            0            1           37           15            0   \n",
      "Actual 1            1            6           26            1            3   \n",
      "Actual 2            4            8           20            3            6   \n",
      "Actual 3            0            1            4            4           16   \n",
      "Actual 4            0            0            9            3            9   \n",
      "Actual 5            1            1           12            5            9   \n",
      "Actual 6            0            0           11            0           12   \n",
      "Actual 7            0            1           15            1            5   \n",
      "Actual 8            0            2           10           15            5   \n",
      "Actual 9            0            2           41            4            7   \n",
      "Total               6           22          185           51           72   \n",
      "\n",
      "          Total  \n",
      "Actual 0    376  \n",
      "Actual 1    378  \n",
      "Actual 2    392  \n",
      "Actual 3    383  \n",
      "Actual 4    375  \n",
      "Actual 5    378  \n",
      "Actual 6    371  \n",
      "Actual 7    370  \n",
      "Actual 8    396  \n",
      "Actual 9    381  \n",
      "Total      3800  \n",
      "Iteration:  100\n",
      "0.1718421052631579\n",
      "Class-wise Accuracies: {0: 0.29521276595744683, 1: 0.23544973544973544, 2: 0.061224489795918366, 3: 0.04699738903394256, 4: 0.016, 5: 0.2857142857142857, 6: 0.08355795148247978, 7: 0.16486486486486487, 8: 0.398989898989899, 9: 0.12335958005249344}\n",
      "Enhanced Confusion Matrix:\n",
      "          Predicted 0  Predicted 1  Predicted 2  Predicted 3  Predicted 4  \\\n",
      "Actual 0          111           24           13           15           10   \n",
      "Actual 1           24           89           10            4            2   \n",
      "Actual 2           36           19           24           12            8   \n",
      "Actual 3           63           31           10           18           15   \n",
      "Actual 4           61           35            6            9            6   \n",
      "Actual 5           48           10           25           14            2   \n",
      "Actual 6           36           14           10            6            5   \n",
      "Actual 7           67           24           22            4           19   \n",
      "Actual 8           38           32           17           29            7   \n",
      "Actual 9           55           36           12           13            5   \n",
      "Total             539          314          149          124           79   \n",
      "\n",
      "          Predicted 5  Predicted 6  Predicted 7  Predicted 8  Predicted 9  \\\n",
      "Actual 0           23           11           47           86           36   \n",
      "Actual 1           43           44           18           91           53   \n",
      "Actual 2           84           34           36          121           18   \n",
      "Actual 3           39           14           25          107           61   \n",
      "Actual 4           28           27           24          114           65   \n",
      "Actual 5          108           23           33           76           39   \n",
      "Actual 6           94           31           18          139           18   \n",
      "Actual 7           33           16           61           78           46   \n",
      "Actual 8           41           13           12          158           49   \n",
      "Actual 9           29           22           49          113           47   \n",
      "Total             522          235          323         1083          432   \n",
      "\n",
      "          Total  \n",
      "Actual 0    376  \n",
      "Actual 1    378  \n",
      "Actual 2    392  \n",
      "Actual 3    383  \n",
      "Actual 4    375  \n",
      "Actual 5    378  \n",
      "Actual 6    371  \n",
      "Actual 7    370  \n",
      "Actual 8    396  \n",
      "Actual 9    381  \n",
      "Total      3800  \n",
      "Iteration:  200\n",
      "0.2231578947368421\n",
      "Class-wise Accuracies: {0: 0.3484042553191489, 1: 0.2777777777777778, 2: 0.05612244897959184, 3: 0.0731070496083551, 4: 0.016, 5: 0.4523809523809524, 6: 0.0889487870619946, 7: 0.22162162162162163, 8: 0.5606060606060606, 9: 0.12598425196850394}\n",
      "Enhanced Confusion Matrix:\n",
      "          Predicted 0  Predicted 1  Predicted 2  Predicted 3  Predicted 4  \\\n",
      "Actual 0          131           26           10           19            7   \n",
      "Actual 1           21          105            5           10            1   \n",
      "Actual 2           36           16           22            9            0   \n",
      "Actual 3           53           23            7           28           11   \n",
      "Actual 4           54           37            5           13            6   \n",
      "Actual 5           28            9            9           12            0   \n",
      "Actual 6           19           15            5            6            1   \n",
      "Actual 7           76           21            8           13           11   \n",
      "Actual 8           32           21            6           10            9   \n",
      "Actual 9           60           51            7           15            5   \n",
      "Total             510          324           84          135           51   \n",
      "\n",
      "          Predicted 5  Predicted 6  Predicted 7  Predicted 8  Predicted 9  \\\n",
      "Actual 0           21            8           36           92           26   \n",
      "Actual 1           39           31           14          106           46   \n",
      "Actual 2           94           33           31          138           13   \n",
      "Actual 3           36            4           30          137           54   \n",
      "Actual 4           31           26           23          130           50   \n",
      "Actual 5          171           24           15           90           20   \n",
      "Actual 6          115           33           10          153           14   \n",
      "Actual 7           38           24           82           71           26   \n",
      "Actual 8           46           14           10          222           26   \n",
      "Actual 9           25            9           36          125           48   \n",
      "Total             616          206          287         1264          323   \n",
      "\n",
      "          Total  \n",
      "Actual 0    376  \n",
      "Actual 1    378  \n",
      "Actual 2    392  \n",
      "Actual 3    383  \n",
      "Actual 4    375  \n",
      "Actual 5    378  \n",
      "Actual 6    371  \n",
      "Actual 7    370  \n",
      "Actual 8    396  \n",
      "Actual 9    381  \n",
      "Total      3800  \n",
      "Iteration:  300\n",
      "0.265\n",
      "Class-wise Accuracies: {0: 0.3617021276595745, 1: 0.31746031746031744, 2: 0.10204081632653061, 3: 0.1227154046997389, 4: 0.04533333333333334, 5: 0.5370370370370371, 6: 0.1105121293800539, 7: 0.31891891891891894, 8: 0.5909090909090909, 9: 0.13385826771653545}\n",
      "Enhanced Confusion Matrix:\n",
      "          Predicted 0  Predicted 1  Predicted 2  Predicted 3  Predicted 4  \\\n",
      "Actual 0          136           26           10           18            4   \n",
      "Actual 1           19          120            5           13            2   \n",
      "Actual 2           26           16           40            8            0   \n",
      "Actual 3           45           21            6           47           15   \n",
      "Actual 4           46           51            7           25           17   \n",
      "Actual 5           25            6            9           12            0   \n",
      "Actual 6           18           17            6            9            2   \n",
      "Actual 7           72           14            5           22           15   \n",
      "Actual 8           27           20            6           12            9   \n",
      "Actual 9           55           63            2           17            7   \n",
      "Total             469          354           96          183           71   \n",
      "\n",
      "          Predicted 5  Predicted 6  Predicted 7  Predicted 8  Predicted 9  \\\n",
      "Actual 0           18            5           44           78           37   \n",
      "Actual 1           31           31           15           95           47   \n",
      "Actual 2          100           44           31          107           20   \n",
      "Actual 3           34            5           35          124           51   \n",
      "Actual 4           32           27           30          103           37   \n",
      "Actual 5          203           20           14           71           18   \n",
      "Actual 6          129           41           15          122           12   \n",
      "Actual 7           30           22          118           49           23   \n",
      "Actual 8           41           17           11          234           19   \n",
      "Actual 9           20           10           41          115           51   \n",
      "Total             638          222          354         1098          315   \n",
      "\n",
      "          Total  \n",
      "Actual 0    376  \n",
      "Actual 1    378  \n",
      "Actual 2    392  \n",
      "Actual 3    383  \n",
      "Actual 4    375  \n",
      "Actual 5    378  \n",
      "Actual 6    371  \n",
      "Actual 7    370  \n",
      "Actual 8    396  \n",
      "Actual 9    381  \n",
      "Total      3800  \n"
     ]
    },
    {
     "name": "stdout",
     "output_type": "stream",
     "text": [
      "Iteration:  400\n",
      "0.3121052631578947\n",
      "Class-wise Accuracies: {0: 0.3617021276595745, 1: 0.3862433862433862, 2: 0.19387755102040816, 3: 0.20887728459530025, 4: 0.058666666666666666, 5: 0.5555555555555556, 6: 0.16981132075471697, 7: 0.3810810810810811, 8: 0.5858585858585859, 9: 0.2099737532808399}\n",
      "Enhanced Confusion Matrix:\n",
      "          Predicted 0  Predicted 1  Predicted 2  Predicted 3  Predicted 4  \\\n",
      "Actual 0          136           26           14           21            6   \n",
      "Actual 1           16          146            5           15            3   \n",
      "Actual 2           20           15           76            7            0   \n",
      "Actual 3           43           23            4           80           17   \n",
      "Actual 4           35           61            9           30           22   \n",
      "Actual 5           21            7           17           15            0   \n",
      "Actual 6           12           20           17           13            2   \n",
      "Actual 7           66           16            8           29           16   \n",
      "Actual 8           22           21            5           22            7   \n",
      "Actual 9           57           67            2           17            7   \n",
      "Total             428          402          157          249           80   \n",
      "\n",
      "          Predicted 5  Predicted 6  Predicted 7  Predicted 8  Predicted 9  \\\n",
      "Actual 0           20            5           44           61           43   \n",
      "Actual 1           25           19           22           92           35   \n",
      "Actual 2           97           55           28           82           12   \n",
      "Actual 3           33            3           34          102           44   \n",
      "Actual 4           39           40           46           65           28   \n",
      "Actual 5          210           26            9           58           15   \n",
      "Actual 6          128           63           21           81           14   \n",
      "Actual 7           20           20          141           31           23   \n",
      "Actual 8           34           20           12          232           21   \n",
      "Actual 9           21           10           31           89           80   \n",
      "Total             627          261          388          893          315   \n",
      "\n",
      "          Total  \n",
      "Actual 0    376  \n",
      "Actual 1    378  \n",
      "Actual 2    392  \n",
      "Actual 3    383  \n",
      "Actual 4    375  \n",
      "Actual 5    378  \n",
      "Actual 6    371  \n",
      "Actual 7    370  \n",
      "Actual 8    396  \n",
      "Actual 9    381  \n",
      "Total      3800  \n"
     ]
    },
    {
     "ename": "KeyboardInterrupt",
     "evalue": "",
     "output_type": "error",
     "traceback": [
      "\u001b[0;31m---------------------------------------------------------------------------\u001b[0m",
      "\u001b[0;31mKeyboardInterrupt\u001b[0m                         Traceback (most recent call last)",
      "Cell \u001b[0;32mIn[207], line 1\u001b[0m\n\u001b[0;32m----> 1\u001b[0m W1, b1, W2, b2, iteration, accuracy \u001b[38;5;241m=\u001b[39m \u001b[43mgradient_descent\u001b[49m\u001b[43m(\u001b[49m\u001b[43mX_train\u001b[49m\u001b[43m,\u001b[49m\u001b[43m \u001b[49m\u001b[43mY_train\u001b[49m\u001b[43m,\u001b[49m\u001b[43m \u001b[49m\u001b[38;5;241;43m0.05\u001b[39;49m\u001b[43m,\u001b[49m\u001b[43m \u001b[49m\u001b[38;5;241;43m1000\u001b[39;49m\u001b[43m)\u001b[49m\n",
      "Cell \u001b[0;32mIn[199], line 42\u001b[0m, in \u001b[0;36mgradient_descent\u001b[0;34m(X, Y, alpha, iterations)\u001b[0m\n\u001b[1;32m     40\u001b[0m \u001b[38;5;28;01mfor\u001b[39;00m i \u001b[38;5;129;01min\u001b[39;00m \u001b[38;5;28mrange\u001b[39m(iterations):\n\u001b[1;32m     41\u001b[0m     Z1, A1, Z2, A2 \u001b[38;5;241m=\u001b[39m forward_prop(W1, b1, W2, b2, X)\n\u001b[0;32m---> 42\u001b[0m     dW1, db1, dW2, db2 \u001b[38;5;241m=\u001b[39m \u001b[43mbackward_prop\u001b[49m\u001b[43m(\u001b[49m\u001b[43mZ1\u001b[49m\u001b[43m,\u001b[49m\u001b[43m \u001b[49m\u001b[43mA1\u001b[49m\u001b[43m,\u001b[49m\u001b[43m \u001b[49m\u001b[43mZ2\u001b[49m\u001b[43m,\u001b[49m\u001b[43m \u001b[49m\u001b[43mA2\u001b[49m\u001b[43m,\u001b[49m\u001b[43m \u001b[49m\u001b[43mW1\u001b[49m\u001b[43m,\u001b[49m\u001b[43m \u001b[49m\u001b[43mW2\u001b[49m\u001b[43m,\u001b[49m\u001b[43m \u001b[49m\u001b[43mX\u001b[49m\u001b[43m,\u001b[49m\u001b[43m \u001b[49m\u001b[43mY\u001b[49m\u001b[43m)\u001b[49m\n\u001b[1;32m     43\u001b[0m     W1, b1, W2, b2 \u001b[38;5;241m=\u001b[39m update_params(W1, b1, W2, b2, dW1, db1, dW2, db2, alpha)\n\u001b[1;32m     44\u001b[0m     \u001b[38;5;28;01mif\u001b[39;00m i \u001b[38;5;241m%\u001b[39m \u001b[38;5;241m100\u001b[39m \u001b[38;5;241m==\u001b[39m \u001b[38;5;241m0\u001b[39m:\n",
      "Cell \u001b[0;32mIn[198], line 43\u001b[0m, in \u001b[0;36mbackward_prop\u001b[0;34m(Z1, A1, Z2, A2, W1, W2, X, Y)\u001b[0m\n\u001b[1;32m     41\u001b[0m db2 \u001b[38;5;241m=\u001b[39m \u001b[38;5;241m1\u001b[39m \u001b[38;5;241m/\u001b[39m m \u001b[38;5;241m*\u001b[39m np\u001b[38;5;241m.\u001b[39msum(dZ2)\n\u001b[1;32m     42\u001b[0m dZ1 \u001b[38;5;241m=\u001b[39m W2\u001b[38;5;241m.\u001b[39mT\u001b[38;5;241m.\u001b[39mdot(dZ2) \u001b[38;5;241m*\u001b[39m ReLU_deriv(Z1)\n\u001b[0;32m---> 43\u001b[0m dW1 \u001b[38;5;241m=\u001b[39m \u001b[38;5;241m1\u001b[39m \u001b[38;5;241m/\u001b[39m m \u001b[38;5;241m*\u001b[39m \u001b[43mdZ1\u001b[49m\u001b[38;5;241;43m.\u001b[39;49m\u001b[43mdot\u001b[49m\u001b[43m(\u001b[49m\u001b[43mX\u001b[49m\u001b[38;5;241;43m.\u001b[39;49m\u001b[43mT\u001b[49m\u001b[43m)\u001b[49m\n\u001b[1;32m     44\u001b[0m db1 \u001b[38;5;241m=\u001b[39m \u001b[38;5;241m1\u001b[39m \u001b[38;5;241m/\u001b[39m m \u001b[38;5;241m*\u001b[39m np\u001b[38;5;241m.\u001b[39msum(dZ1)\n\u001b[1;32m     45\u001b[0m \u001b[38;5;28;01mreturn\u001b[39;00m dW1, db1, dW2, db2\n",
      "\u001b[0;31mKeyboardInterrupt\u001b[0m: "
     ]
    }
   ],
   "source": [
    "    W1, b1, W2, b2, iteration, accuracy = gradient_descent(X_train, Y_train, 0.05, 1000)"
   ]
  },
  {
   "cell_type": "code",
   "execution_count": 177,
   "id": "f3bcd3ef",
   "metadata": {
    "scrolled": true
   },
   "outputs": [
    {
     "data": {
      "image/png": "[encoded data removed]",
      "text/plain": [
       "<Figure size 640x480 with 1 Axes>"
      ]
     },
     "metadata": {},
     "output_type": "display_data"
    }
   ],
   "source": [
    "#Learning graph, accuracy over iterations\n",
    "plt.title(\"Accuracy over time\") \n",
    "plt.xlabel(\"Iteration\") \n",
    "plt.ylabel(\"Accuracy\") \n",
    "plt.plot(iteration,accuracy) \n",
    "plt.show()"
   ]
  },
  {
   "cell_type": "code",
   "execution_count": 119,
   "id": "5f21dde7",
   "metadata": {},
   "outputs": [],
   "source": [
    "#Use this code section for random images from booted dataset. For custom images, look down\n",
    "def make_predictions(X, W1, b1, W2, b2):\n",
    "    _, _, _, A2 = forward_prop(W1, b1, W2, b2, X)\n",
    "    predictions = get_predictions(A2)\n",
    "    return predictions\n",
    "\n",
    "def test_prediction(index, W1, b1, W2, b2):\n",
    "    current_image = X_train[:, index, None]\n",
    "    prediction = make_predictions(X_train[:, index, None], W1, b1, W2, b2)\n",
    "    label = Y_train[index]\n",
    "    \n",
    "    print(prediction)\n",
    "    \n",
    "    print(\"Prediction: \", label_dict[str(int(prediction))])\n",
    "    print(\"Label: \", label_dict[str(int(label))])\n",
    "    \n",
    "    print(\"Prediction numerical label: \", prediction)\n",
    "    print(\"Numerical label: \", label)\n",
    "    \n",
    "    current_image = current_image.reshape((28, 224)) * 255\n",
    "    plt.gray()\n",
    "    plt.imshow(current_image, interpolation='nearest')\n",
    "    plt.show()\n",
    "    \n",
    "    if int(prediction) != label:\n",
    "        print(\"Wrong prediction!\")\n",
    "        return False\n",
    "    else:\n",
    "        print(\"Correct prediction!\")\n",
    "        return True\n",
    "   \n"
   ]
  },
  {
   "cell_type": "code",
   "execution_count": 120,
   "id": "158b7d02",
   "metadata": {},
   "outputs": [
    {
     "name": "stdout",
     "output_type": "stream",
     "text": [
      "[9]\n",
      "Prediction:  constan\n",
      "Label:  constan\n",
      "Prediction numerical label:  [9]\n",
      "Numerical label:  9\n"
     ]
    },
    {
     "data": {
      "image/png": "[encoded data removed]",
      "text/plain": [
       "<Figure size 640x480 with 1 Axes>"
      ]
     },
     "metadata": {},
     "output_type": "display_data"
    },
    {
     "name": "stdout",
     "output_type": "stream",
     "text": [
      "Correct prediction!\n"
     ]
    },
    {
     "data": {
      "text/plain": [
       "True"
      ]
     },
     "execution_count": 120,
     "metadata": {},
     "output_type": "execute_result"
    }
   ],
   "source": [
    "test_prediction(18, W1, b1, W2, b2)"
   ]
  },
  {
   "cell_type": "code",
   "execution_count": 124,
   "id": "36bda42b",
   "metadata": {
    "scrolled": true
   },
   "outputs": [
    {
     "name": "stdout",
     "output_type": "stream",
     "text": [
      "[0]\n",
      "Prediction:  arial\n",
      "Label:  arial\n",
      "Prediction numerical label:  [0]\n",
      "Numerical label:  0\n"
     ]
    },
    {
     "data": {
      "image/png": "[encoded data removed]",
      "text/plain": [
       "<Figure size 640x480 with 1 Axes>"
      ]
     },
     "metadata": {},
     "output_type": "display_data"
    },
    {
     "name": "stdout",
     "output_type": "stream",
     "text": [
      "Correct prediction!\n",
      "[7]\n",
      "Prediction:  comic\n",
      "Label:  comic\n",
      "Prediction numerical label:  [7]\n",
      "Numerical label:  7\n"
     ]
    },
    {
     "data": {
      "image/png": "[encoded data removed]",
      "text/plain": [
       "<Figure size 640x480 with 1 Axes>"
      ]
     },
     "metadata": {},
     "output_type": "display_data"
    },
    {
     "name": "stdout",
     "output_type": "stream",
     "text": [
      "Correct prediction!\n",
      "[6]\n",
      "Prediction:  mvboli\n",
      "Label:  mvboli\n",
      "Prediction numerical label:  [6]\n",
      "Numerical label:  6\n"
     ]
    },
    {
     "data": {
      "image/png": "[encoded data removed]",
      "text/plain": [
       "<Figure size 640x480 with 1 Axes>"
      ]
     },
     "metadata": {},
     "output_type": "display_data"
    },
    {
     "name": "stdout",
     "output_type": "stream",
     "text": [
      "Correct prediction!\n",
      "[9]\n",
      "Prediction:  constan\n",
      "Label:  constan\n",
      "Prediction numerical label:  [9]\n",
      "Numerical label:  9\n"
     ]
    },
    {
     "data": {
      "image/png": "[encoded data removed]",
      "text/plain": [
       "<Figure size 640x480 with 1 Axes>"
      ]
     },
     "metadata": {},
     "output_type": "display_data"
    },
    {
     "name": "stdout",
     "output_type": "stream",
     "text": [
      "Correct prediction!\n",
      "[4]\n",
      "Prediction:  ebrima\n",
      "Label:  ebrima\n",
      "Prediction numerical label:  [4]\n",
      "Numerical label:  4\n"
     ]
    },
    {
     "data": {
      "image/png": "[encoded data removed]",
      "text/plain": [
       "<Figure size 640x480 with 1 Axes>"
      ]
     },
     "metadata": {},
     "output_type": "display_data"
    },
    {
     "name": "stdout",
     "output_type": "stream",
     "text": [
      "Correct prediction!\n",
      "[7]\n",
      "Prediction:  comic\n",
      "Label:  comic\n",
      "Prediction numerical label:  [7]\n",
      "Numerical label:  7\n"
     ]
    },
    {
     "data": {
      "image/png": "[encoded data removed]",
      "text/plain": [
       "<Figure size 640x480 with 1 Axes>"
      ]
     },
     "metadata": {},
     "output_type": "display_data"
    },
    {
     "name": "stdout",
     "output_type": "stream",
     "text": [
      "Correct prediction!\n",
      "[7]\n",
      "Prediction:  comic\n",
      "Label:  comic\n",
      "Prediction numerical label:  [7]\n",
      "Numerical label:  7\n"
     ]
    },
    {
     "data": {
      "image/png": "[encoded data removed]",
      "text/plain": [
       "<Figure size 640x480 with 1 Axes>"
      ]
     },
     "metadata": {},
     "output_type": "display_data"
    },
    {
     "name": "stdout",
     "output_type": "stream",
     "text": [
      "Correct prediction!\n",
      "[6]\n",
      "Prediction:  mvboli\n",
      "Label:  mvboli\n",
      "Prediction numerical label:  [6]\n",
      "Numerical label:  6\n"
     ]
    },
    {
     "data": {
      "image/png": "[encoded data removed]",
      "text/plain": [
       "<Figure size 640x480 with 1 Axes>"
      ]
     },
     "metadata": {},
     "output_type": "display_data"
    },
    {
     "name": "stdout",
     "output_type": "stream",
     "text": [
      "Correct prediction!\n",
      "[4]\n",
      "Prediction:  ebrima\n",
      "Label:  ebrima\n",
      "Prediction numerical label:  [4]\n",
      "Numerical label:  4\n"
     ]
    },
    {
     "data": {
      "image/png": "[encoded data removed]",
      "text/plain": [
       "<Figure size 640x480 with 1 Axes>"
      ]
     },
     "metadata": {},
     "output_type": "display_data"
    },
    {
     "name": "stdout",
     "output_type": "stream",
     "text": [
      "Correct prediction!\n",
      "[7]\n",
      "Prediction:  comic\n",
      "Label:  comic\n",
      "Prediction numerical label:  [7]\n",
      "Numerical label:  7\n"
     ]
    },
    {
     "data": {
      "image/png": "[encoded data removed]",
      "text/plain": [
       "<Figure size 640x480 with 1 Axes>"
      ]
     },
     "metadata": {},
     "output_type": "display_data"
    },
    {
     "name": "stdout",
     "output_type": "stream",
     "text": [
      "Correct prediction!\n",
      "Accuracy: 1.0\n"
     ]
    }
   ],
   "source": [
    "#Getting accuracy of random parts of booted dataset\n",
    "num_of_iterations = 0\n",
    "correct_count = 0\n",
    "\n",
    "for iter in range(0, 10):\n",
    "    rand_sample = random.randint(0, 19)\n",
    "    num_of_iterations += 1\n",
    "    if test_prediction(rand_sample, W1, b1, W2, b2) == True:\n",
    "        correct_count += 1        \n",
    "accuracy = correct_count / num_of_iterations\n",
    "print(\"Accuracy: \" + str(accuracy))\n"
   ]
  },
  {
   "cell_type": "code",
   "execution_count": 68,
   "id": "03cdc48e",
   "metadata": {},
   "outputs": [],
   "source": [
    "#Use this code section for custom booted images\n",
    "def make_predictions(X, W1, b1, W2, b2):\n",
    "    _, _, _, A2 = forward_prop(W1, b1, W2, b2, X)\n",
    "    predictions = get_predictions(A2)\n",
    "    return predictions\n",
    "\n",
    "def test_prediction(my_image, W1, b1, W2, b2):\n",
    "    current_image = my_image\n",
    "    prediction = make_predictions(my_image, W1, b1, W2, b2)\n",
    "    \n",
    "    print(\"Prediction: \", label_dict[str(int(prediction))])\n",
    "    print(\"Prediction numerical label: \", prediction)\n",
    "    \n",
    "    current_image = current_image.reshape((28, 224)) * 255\n",
    "    plt.gray()\n",
    "    plt.imshow(current_image, interpolation='nearest')\n",
    "    plt.show()"
   ]
  },
  {
   "cell_type": "code",
   "execution_count": 72,
   "id": "7fa844fc",
   "metadata": {},
   "outputs": [
    {
     "name": "stdout",
     "output_type": "stream",
     "text": [
      "Prediction:  calibrii\n",
      "Prediction numerical label:  [1]\n"
     ]
    },
    {
     "data": {
      "image/png": "[encoded data removed]",
      "text/plain": [
       "<Figure size 640x480 with 1 Axes>"
      ]
     },
     "metadata": {},
     "output_type": "display_data"
    },
    {
     "data": {
      "text/plain": [
       "<matplotlib.image.AxesImage at 0x7f457cc89e40>"
      ]
     },
     "execution_count": 72,
     "metadata": {},
     "output_type": "execute_result"
    },
    {
     "data": {
      "image/png": "[encoded data removed]",
      "text/plain": [
       "<Figure size 640x480 with 1 Axes>"
      ]
     },
     "metadata": {},
     "output_type": "display_data"
    }
   ],
   "source": [
    "#Enter the name of your image, you want to check font of. \n",
    "\n",
    "#Your image has to be 224x28pixels!\n",
    "image_name = \"/home/zule/anaconda3/envs/AlpNum/Font-Recognizer/Renders/arial.ttf29.png\"\n",
    "image = cv.imread(image_name)\n",
    "cv_image = cv.cvtColor(np.array(image), cv.COLOR_RGB2BGR)\n",
    "cv_image_gs = cv.cvtColor(cv_image, cv.COLOR_BGR2GRAY)\n",
    "\n",
    "#If you have white background use this line of code\n",
    "#cv_image_gs = ~cv_image_gs\n",
    "\n",
    "image_array = np.asarray(cv_image_gs)\n",
    "oneDimensionArray = image_array.flatten()\n",
    "oneDimensionArray = oneDimensionArray / 255\n",
    "\n",
    "oneDimensionArray = np.reshape(oneDimensionArray, (-1, 1))\n",
    "\n",
    "test_prediction(oneDimensionArray, W1, b1, W2, b2)\n",
    "plt.imshow(cv_image_gs, cmap='gray')\n",
    "\n",
    "\n",
    "\n"
   ]
  },
  {
   "cell_type": "code",
   "execution_count": null,
   "id": "3568e2ff",
   "metadata": {},
   "outputs": [],
   "source": [
    "# Save params from a file\n",
    "import pickle\n",
    "\n",
    "# After training the model, save the parameters\n",
    "def save_params(W1, b1, W2, b2):\n",
    "    params = {\"W1\": W1, \"b1\": b1, \"W2\": W2, \"b2\": b2}\n",
    "    \n",
    "    with open(my_dir_path + \"/params.pkl\", \"wb\") as f:\n",
    "        pickle.dump(params, f)\n",
    "\n",
    "save_params(W1, b1, W2, b2)\n",
    "\n",
    "print(W1, b1, W2, b2)"
   ]
  },
  {
   "cell_type": "code",
   "execution_count": null,
   "id": "acf5e437",
   "metadata": {},
   "outputs": [],
   "source": [
    "# Load parameters from a file\n",
    "def load_params():\n",
    "    with open(my_dir_path + \"/params.pkl\", \"rb\") as f:\n",
    "        params = pickle.load(f)\n",
    "        \n",
    "    return params[\"W1\"], params[\"b1\"], params[\"W2\"], params[\"b2\"]\n",
    "\n",
    "# Use it like this\n",
    "W1, b1, W2, b2 = load_params()"
   ]
  },
  {
   "cell_type": "code",
   "execution_count": null,
   "id": "6ef9da8a",
   "metadata": {},
   "outputs": [],
   "source": []
  }
 ],
 "metadata": {
  "kernelspec": {
   "display_name": "Python 3 (ipykernel)",
   "language": "python",
   "name": "python3"
  },
  "language_info": {
   "codemirror_mode": {
    "name": "ipython",
    "version": 3
   },
   "file_extension": ".py",
   "mimetype": "text/x-python",
   "name": "python",
   "nbconvert_exporter": "python",
   "pygments_lexer": "ipython3",
   "version": "3.10.11"
  }
 },
 "nbformat": 4,
 "nbformat_minor": 5
}
