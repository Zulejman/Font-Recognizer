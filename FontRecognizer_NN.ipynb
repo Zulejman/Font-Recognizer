{
 "cells": [
  {
   "cell_type": "code",
   "execution_count": 139,
   "id": "92d02870",
   "metadata": {},
   "outputs": [],
   "source": [
    "#Data loader, loads your .csv with image data\n",
    "import numpy as np\n",
    "import pandas as pd\n",
    "from matplotlib import pyplot as plt\n",
    "import csv\n",
    "import cv2 as cv\n",
    "import random"
   ]
  },
  {
   "cell_type": "code",
   "execution_count": 140,
   "id": "cb07f827",
   "metadata": {},
   "outputs": [],
   "source": [
    "#Enter absolute path to your dataset:\n",
    "my_dir_path = \"/home/zule/anaconda3/envs/AlpNum/Font-Recognizer\"\n",
    "data = pd.read_csv(my_dir_path + \"/dataset_table.csv\")"
   ]
  },
  {
   "cell_type": "code",
   "execution_count": 141,
   "id": "57849ba4",
   "metadata": {},
   "outputs": [
    {
     "data": {
      "text/html": [
       "<div>\n",
       "<style scoped>\n",
       "    .dataframe tbody tr th:only-of-type {\n",
       "        vertical-align: middle;\n",
       "    }\n",
       "\n",
       "    .dataframe tbody tr th {\n",
       "        vertical-align: top;\n",
       "    }\n",
       "\n",
       "    .dataframe thead th {\n",
       "        text-align: right;\n",
       "    }\n",
       "</style>\n",
       "<table border=\"1\" class=\"dataframe\">\n",
       "  <thead>\n",
       "    <tr style=\"text-align: right;\">\n",
       "      <th></th>\n",
       "      <th>label</th>\n",
       "      <th>pixel0</th>\n",
       "      <th>pixel1</th>\n",
       "      <th>pixel2</th>\n",
       "      <th>pixel3</th>\n",
       "      <th>pixel4</th>\n",
       "      <th>pixel5</th>\n",
       "      <th>pixel6</th>\n",
       "      <th>pixel7</th>\n",
       "      <th>pixel8</th>\n",
       "      <th>...</th>\n",
       "      <th>pixel6262</th>\n",
       "      <th>pixel6263</th>\n",
       "      <th>pixel6264</th>\n",
       "      <th>pixel6265</th>\n",
       "      <th>pixel6266</th>\n",
       "      <th>pixel6267</th>\n",
       "      <th>pixel6268</th>\n",
       "      <th>pixel6269</th>\n",
       "      <th>pixel6270</th>\n",
       "      <th>pixel6271</th>\n",
       "    </tr>\n",
       "  </thead>\n",
       "  <tbody>\n",
       "    <tr>\n",
       "      <th>0</th>\n",
       "      <td>0</td>\n",
       "      <td>0</td>\n",
       "      <td>0</td>\n",
       "      <td>0</td>\n",
       "      <td>0</td>\n",
       "      <td>0</td>\n",
       "      <td>0</td>\n",
       "      <td>0</td>\n",
       "      <td>0</td>\n",
       "      <td>0</td>\n",
       "      <td>...</td>\n",
       "      <td>0</td>\n",
       "      <td>0</td>\n",
       "      <td>0</td>\n",
       "      <td>0</td>\n",
       "      <td>0</td>\n",
       "      <td>0</td>\n",
       "      <td>0</td>\n",
       "      <td>0</td>\n",
       "      <td>0</td>\n",
       "      <td>0</td>\n",
       "    </tr>\n",
       "    <tr>\n",
       "      <th>1</th>\n",
       "      <td>0</td>\n",
       "      <td>0</td>\n",
       "      <td>0</td>\n",
       "      <td>0</td>\n",
       "      <td>0</td>\n",
       "      <td>0</td>\n",
       "      <td>0</td>\n",
       "      <td>0</td>\n",
       "      <td>0</td>\n",
       "      <td>0</td>\n",
       "      <td>...</td>\n",
       "      <td>0</td>\n",
       "      <td>0</td>\n",
       "      <td>0</td>\n",
       "      <td>0</td>\n",
       "      <td>0</td>\n",
       "      <td>0</td>\n",
       "      <td>0</td>\n",
       "      <td>0</td>\n",
       "      <td>0</td>\n",
       "      <td>0</td>\n",
       "    </tr>\n",
       "    <tr>\n",
       "      <th>2</th>\n",
       "      <td>0</td>\n",
       "      <td>0</td>\n",
       "      <td>0</td>\n",
       "      <td>0</td>\n",
       "      <td>0</td>\n",
       "      <td>0</td>\n",
       "      <td>0</td>\n",
       "      <td>0</td>\n",
       "      <td>0</td>\n",
       "      <td>0</td>\n",
       "      <td>...</td>\n",
       "      <td>0</td>\n",
       "      <td>0</td>\n",
       "      <td>0</td>\n",
       "      <td>0</td>\n",
       "      <td>0</td>\n",
       "      <td>0</td>\n",
       "      <td>0</td>\n",
       "      <td>0</td>\n",
       "      <td>0</td>\n",
       "      <td>0</td>\n",
       "    </tr>\n",
       "    <tr>\n",
       "      <th>3</th>\n",
       "      <td>0</td>\n",
       "      <td>0</td>\n",
       "      <td>0</td>\n",
       "      <td>0</td>\n",
       "      <td>0</td>\n",
       "      <td>0</td>\n",
       "      <td>0</td>\n",
       "      <td>0</td>\n",
       "      <td>0</td>\n",
       "      <td>0</td>\n",
       "      <td>...</td>\n",
       "      <td>0</td>\n",
       "      <td>0</td>\n",
       "      <td>0</td>\n",
       "      <td>0</td>\n",
       "      <td>0</td>\n",
       "      <td>0</td>\n",
       "      <td>0</td>\n",
       "      <td>0</td>\n",
       "      <td>0</td>\n",
       "      <td>0</td>\n",
       "    </tr>\n",
       "    <tr>\n",
       "      <th>4</th>\n",
       "      <td>0</td>\n",
       "      <td>0</td>\n",
       "      <td>0</td>\n",
       "      <td>0</td>\n",
       "      <td>0</td>\n",
       "      <td>0</td>\n",
       "      <td>0</td>\n",
       "      <td>0</td>\n",
       "      <td>0</td>\n",
       "      <td>0</td>\n",
       "      <td>...</td>\n",
       "      <td>0</td>\n",
       "      <td>0</td>\n",
       "      <td>0</td>\n",
       "      <td>0</td>\n",
       "      <td>0</td>\n",
       "      <td>0</td>\n",
       "      <td>0</td>\n",
       "      <td>0</td>\n",
       "      <td>0</td>\n",
       "      <td>0</td>\n",
       "    </tr>\n",
       "  </tbody>\n",
       "</table>\n",
       "<p>5 rows × 6273 columns</p>\n",
       "</div>"
      ],
      "text/plain": [
       "   label  pixel0  pixel1  pixel2  pixel3  pixel4  pixel5  pixel6  pixel7  \\\n",
       "0      0       0       0       0       0       0       0       0       0   \n",
       "1      0       0       0       0       0       0       0       0       0   \n",
       "2      0       0       0       0       0       0       0       0       0   \n",
       "3      0       0       0       0       0       0       0       0       0   \n",
       "4      0       0       0       0       0       0       0       0       0   \n",
       "\n",
       "   pixel8  ...  pixel6262  pixel6263  pixel6264  pixel6265  pixel6266  \\\n",
       "0       0  ...          0          0          0          0          0   \n",
       "1       0  ...          0          0          0          0          0   \n",
       "2       0  ...          0          0          0          0          0   \n",
       "3       0  ...          0          0          0          0          0   \n",
       "4       0  ...          0          0          0          0          0   \n",
       "\n",
       "   pixel6267  pixel6268  pixel6269  pixel6270  pixel6271  \n",
       "0          0          0          0          0          0  \n",
       "1          0          0          0          0          0  \n",
       "2          0          0          0          0          0  \n",
       "3          0          0          0          0          0  \n",
       "4          0          0          0          0          0  \n",
       "\n",
       "[5 rows x 6273 columns]"
      ]
     },
     "execution_count": 141,
     "metadata": {},
     "output_type": "execute_result"
    }
   ],
   "source": [
    "data.head()"
   ]
  },
  {
   "cell_type": "code",
   "execution_count": 142,
   "id": "31b68e20",
   "metadata": {},
   "outputs": [],
   "source": [
    "#Label Loader, loads .csv with font labels\n",
    "label_file = my_dir_path + '/font_labels.csv'\n",
    "label_dict = {}\n",
    "\n",
    "with open(label_file,'r') as font_data_file:\n",
    "    for name, label in csv.reader(font_data_file):\n",
    "        label_dict[label] = name"
   ]
  },
  {
   "cell_type": "code",
   "execution_count": 143,
   "id": "0c1d5d28",
   "metadata": {},
   "outputs": [],
   "source": [
    "#Data arange, shuffle and splitting into train and validation data\n",
    "data = np.array(data)\n",
    "m, n = data.shape\n",
    "np.random.shuffle(data) # shuffle before splitting into dev and training sets\n"
   ]
  },
  {
   "cell_type": "code",
   "execution_count": 144,
   "id": "172bddc3",
   "metadata": {},
   "outputs": [
    {
     "name": "stdout",
     "output_type": "stream",
     "text": [
      "400 6273\n"
     ]
    }
   ],
   "source": [
    "print(m, n)"
   ]
  },
  {
   "cell_type": "code",
   "execution_count": 145,
   "id": "4b253f5d",
   "metadata": {},
   "outputs": [],
   "source": [
    "#Add range for data. One_hot(y) must be set to array size\n",
    "#data_dev = data[0:int(n/2)+1].T\n",
    "data_dev = data[0:180].T\n",
    "Y_dev = data_dev[0]\n",
    "X_dev = data_dev[1:n] \n",
    "X_dev = X_dev / 255.\n",
    "\n",
    "#Train data from n to 0, as the initial variable returns empty numpy array\n",
    "#data_train = data[8000:m].T\n",
    "#data_train = data[int(n/2):].T\n",
    "data_train = data[180:].T\n",
    "Y_train = data_train[0]\n",
    "X_train = data_train[1:n] \n",
    "X_train = X_train / 255.\n",
    "_,m_train = X_train.shape"
   ]
  },
  {
   "cell_type": "code",
   "execution_count": 146,
   "id": "e5d75a6c",
   "metadata": {},
   "outputs": [],
   "source": [
    "#Weigth and bias params initialization\n",
    "\n",
    "#Random values from -0.5 to 0.5\n",
    "def init_params():\n",
    "    W1 = np.random.rand(10, 6272) - 0.5\n",
    "    b1 = np.random.rand(10, 1) - 0.5\n",
    "    W2 = np.random.rand(10, 10) - 0.5\n",
    "    b2 = np.random.rand(10, 1) - 0.5\n",
    "    return W1, b1, W2, b2\n",
    "\n",
    "#ReLU actiavtion function, Z[1]\n",
    "def ReLU(Z):\n",
    "    return np.maximum(Z, 0)\n",
    "\n",
    "#Softmax actiavtion function, Z[2]\n",
    "def softmax(Z):\n",
    "    A = np.exp(Z) / sum(np.exp(Z))\n",
    "    return A\n",
    "    \n",
    "def forward_prop(W1, b1, W2, b2, X):\n",
    "    Z1 = W1.dot(X) + b1\n",
    "    A1 = ReLU(Z1)\n",
    "    Z2 = W2.dot(A1) + b2\n",
    "    A2 = softmax(Z2)\n",
    "    return Z1, A1, Z2, A2\n",
    "\n",
    "#Derivation for back propagation\n",
    "def ReLU_deriv(Z):\n",
    "    return Z > 0\n",
    "\n",
    "def one_hot(Y):\n",
    "    one_hot_Y = np.zeros((Y.size, Y.max() + 1))\n",
    "    one_hot_Y[np.arange(Y.size), Y] = 1\n",
    "    one_hot_Y = one_hot_Y.T\n",
    "    return one_hot_Y\n",
    "\n",
    "def backward_prop(Z1, A1, Z2, A2, W1, W2, X, Y):\n",
    "    one_hot_Y = one_hot(Y)\n",
    "    dZ2 = A2 - one_hot_Y\n",
    "    dW2 = 1 / m * dZ2.dot(A1.T)\n",
    "    db2 = 1 / m * np.sum(dZ2)\n",
    "    dZ1 = W2.T.dot(dZ2) * ReLU_deriv(Z1)\n",
    "    dW1 = 1 / m * dZ1.dot(X.T)\n",
    "    db1 = 1 / m * np.sum(dZ1)\n",
    "    return dW1, db1, dW2, db2\n",
    "\n",
    "def update_params(W1, b1, W2, b2, dW1, db1, dW2, db2, alpha):\n",
    "    W1 = W1 - alpha * dW1\n",
    "    b1 = b1 - alpha * db1    \n",
    "    W2 = W2 - alpha * dW2  \n",
    "    b2 = b2 - alpha * db2    \n",
    "    return W1, b1, W2, b2"
   ]
  },
  {
   "cell_type": "code",
   "execution_count": 147,
   "id": "778b7047",
   "metadata": {},
   "outputs": [],
   "source": [
    "def get_predictions(A2):\n",
    "    return np.argmax(A2, 0)\n",
    "\n",
    "def get_accuracy(predictions, Y):\n",
    "    #print(predictions, Y)\n",
    "    #print(np.sum(predictions == Y) / Y.size)\n",
    "    return np.sum(predictions == Y) / Y.size\n",
    "\n",
    "def get_class_accuracy(predictions, Y):\n",
    "    unique_classes = np.unique(Y)\n",
    "    class_accuracies = {}\n",
    "    \n",
    "    for unique_class in unique_classes:\n",
    "\n",
    "        class_indices = np.where(Y == unique_class)[0]\n",
    "        class_predictions = predictions[class_indices]\n",
    "        class_true_labels = Y[class_indices]\n",
    "        class_accuracy = np.sum(class_predictions == class_true_labels) / len(class_indices)\n",
    "        class_accuracies[unique_class] = class_accuracy\n",
    "    \n",
    "    return class_accuracies\n",
    "\n",
    "def gradient_descent(X, Y, alpha, iterations):\n",
    "    W1, b1, W2, b2 = init_params()\n",
    "    number_of_iteration = []\n",
    "    accuracy_of_iteration = []\n",
    "    for i in range(iterations):\n",
    "        Z1, A1, Z2, A2 = forward_prop(W1, b1, W2, b2, X)\n",
    "        dW1, db1, dW2, db2 = backward_prop(Z1, A1, Z2, A2, W1, W2, X, Y)\n",
    "        W1, b1, W2, b2 = update_params(W1, b1, W2, b2, dW1, db1, dW2, db2, alpha)\n",
    "        if i % 10 == 0:\n",
    "            print(\"Iteration: \", i)\n",
    "            predictions = get_predictions(A2)\n",
    "            number_of_iteration.append(i)\n",
    "            print(get_accuracy(predictions, Y))\n",
    "            accuracy_of_iteration.append(get_accuracy(predictions, Y))\n",
    "            class_accuracies = get_class_accuracy(predictions, Y)\n",
    "            print(\"Class-wise Accuracies:\", class_accuracies)\n",
    "    return W1, b1, W2, b2, number_of_iteration, accuracy_of_iteration"
   ]
  },
  {
   "cell_type": "code",
   "execution_count": 149,
   "id": "331a8aad",
   "metadata": {},
   "outputs": [
    {
     "name": "stdout",
     "output_type": "stream",
     "text": [
      "Iteration:  0\n",
      "0.1\n",
      "Class-wise Accuracies: {0: 0.0, 1: 0.0, 2: 0.047619047619047616, 3: 0.21739130434782608, 4: 0.0, 5: 0.17391304347826086, 6: 0.0, 7: 0.05555555555555555, 8: 0.0, 9: 0.4782608695652174}\n",
      "Iteration:  10\n",
      "0.10909090909090909\n",
      "Class-wise Accuracies: {0: 0.047619047619047616, 1: 0.0, 2: 0.19047619047619047, 3: 0.13043478260869565, 4: 0.13636363636363635, 5: 0.2608695652173913, 6: 0.09523809523809523, 7: 0.05555555555555555, 8: 0.0, 9: 0.17391304347826086}\n",
      "Iteration:  20\n",
      "0.12272727272727273\n",
      "Class-wise Accuracies: {0: 0.09523809523809523, 1: 0.0, 2: 0.2857142857142857, 3: 0.13043478260869565, 4: 0.22727272727272727, 5: 0.30434782608695654, 6: 0.09523809523809523, 7: 0.05555555555555555, 8: 0.0, 9: 0.043478260869565216}\n",
      "Iteration:  30\n",
      "0.15\n",
      "Class-wise Accuracies: {0: 0.14285714285714285, 1: 0.045454545454545456, 2: 0.42857142857142855, 3: 0.08695652173913043, 4: 0.2727272727272727, 5: 0.34782608695652173, 6: 0.047619047619047616, 7: 0.1111111111111111, 8: 0.038461538461538464, 9: 0.0}\n",
      "Iteration:  40\n",
      "0.17727272727272728\n",
      "Class-wise Accuracies: {0: 0.19047619047619047, 1: 0.045454545454545456, 2: 0.42857142857142855, 3: 0.08695652173913043, 4: 0.36363636363636365, 5: 0.391304347826087, 6: 0.047619047619047616, 7: 0.1111111111111111, 8: 0.11538461538461539, 9: 0.0}\n",
      "Iteration:  50\n",
      "0.2\n",
      "Class-wise Accuracies: {0: 0.19047619047619047, 1: 0.045454545454545456, 2: 0.42857142857142855, 3: 0.13043478260869565, 4: 0.4090909090909091, 5: 0.34782608695652173, 6: 0.047619047619047616, 7: 0.16666666666666666, 8: 0.19230769230769232, 9: 0.043478260869565216}\n",
      "Iteration:  60\n",
      "0.21818181818181817\n",
      "Class-wise Accuracies: {0: 0.19047619047619047, 1: 0.045454545454545456, 2: 0.47619047619047616, 3: 0.17391304347826086, 4: 0.45454545454545453, 5: 0.34782608695652173, 6: 0.047619047619047616, 7: 0.16666666666666666, 8: 0.23076923076923078, 9: 0.043478260869565216}\n",
      "Iteration:  70\n",
      "0.23636363636363636\n",
      "Class-wise Accuracies: {0: 0.19047619047619047, 1: 0.045454545454545456, 2: 0.47619047619047616, 3: 0.17391304347826086, 4: 0.45454545454545453, 5: 0.34782608695652173, 6: 0.09523809523809523, 7: 0.16666666666666666, 8: 0.34615384615384615, 9: 0.043478260869565216}\n",
      "Iteration:  80\n",
      "0.2409090909090909\n",
      "Class-wise Accuracies: {0: 0.19047619047619047, 1: 0.045454545454545456, 2: 0.47619047619047616, 3: 0.17391304347826086, 4: 0.5, 5: 0.34782608695652173, 6: 0.09523809523809523, 7: 0.16666666666666666, 8: 0.34615384615384615, 9: 0.043478260869565216}\n",
      "Iteration:  90\n",
      "0.25\n",
      "Class-wise Accuracies: {0: 0.23809523809523808, 1: 0.045454545454545456, 2: 0.47619047619047616, 3: 0.17391304347826086, 4: 0.5454545454545454, 5: 0.34782608695652173, 6: 0.047619047619047616, 7: 0.16666666666666666, 8: 0.38461538461538464, 9: 0.043478260869565216}\n"
     ]
    }
   ],
   "source": [
    "    W1, b1, W2, b2, iteration, accuracy = gradient_descent(X_train, Y_train, 0.05, 100)"
   ]
  },
  {
   "cell_type": "code",
   "execution_count": 118,
   "id": "f3bcd3ef",
   "metadata": {
    "scrolled": true
   },
   "outputs": [
    {
     "data": {
      "image/png": "[encoded data removed]",
      "text/plain": [
       "<Figure size 640x480 with 1 Axes>"
      ]
     },
     "metadata": {},
     "output_type": "display_data"
    }
   ],
   "source": [
    "#Learning graph, accuracy over iterations\n",
    "plt.title(\"Accuracy over time\") \n",
    "plt.xlabel(\"Iteration\") \n",
    "plt.ylabel(\"Accuracy\") \n",
    "plt.plot(iteration,accuracy) \n",
    "plt.show()"
   ]
  },
  {
   "cell_type": "code",
   "execution_count": 119,
   "id": "5f21dde7",
   "metadata": {},
   "outputs": [],
   "source": [
    "#Use this code section for random images from booted dataset. For custom images, look down\n",
    "def make_predictions(X, W1, b1, W2, b2):\n",
    "    _, _, _, A2 = forward_prop(W1, b1, W2, b2, X)\n",
    "    predictions = get_predictions(A2)\n",
    "    return predictions\n",
    "\n",
    "def test_prediction(index, W1, b1, W2, b2):\n",
    "    current_image = X_train[:, index, None]\n",
    "    prediction = make_predictions(X_train[:, index, None], W1, b1, W2, b2)\n",
    "    label = Y_train[index]\n",
    "    \n",
    "    print(prediction)\n",
    "    \n",
    "    print(\"Prediction: \", label_dict[str(int(prediction))])\n",
    "    print(\"Label: \", label_dict[str(int(label))])\n",
    "    \n",
    "    print(\"Prediction numerical label: \", prediction)\n",
    "    print(\"Numerical label: \", label)\n",
    "    \n",
    "    current_image = current_image.reshape((28, 224)) * 255\n",
    "    plt.gray()\n",
    "    plt.imshow(current_image, interpolation='nearest')\n",
    "    plt.show()\n",
    "    \n",
    "    if int(prediction) != label:\n",
    "        print(\"Wrong prediction!\")\n",
    "        return False\n",
    "    else:\n",
    "        print(\"Correct prediction!\")\n",
    "        return True\n",
    "   \n"
   ]
  },
  {
   "cell_type": "code",
   "execution_count": 120,
   "id": "158b7d02",
   "metadata": {},
   "outputs": [
    {
     "name": "stdout",
     "output_type": "stream",
     "text": [
      "[9]\n",
      "Prediction:  constan\n",
      "Label:  constan\n",
      "Prediction numerical label:  [9]\n",
      "Numerical label:  9\n"
     ]
    },
    {
     "data": {
      "image/png": "[encoded data removed]",
      "text/plain": [
       "<Figure size 640x480 with 1 Axes>"
      ]
     },
     "metadata": {},
     "output_type": "display_data"
    },
    {
     "name": "stdout",
     "output_type": "stream",
     "text": [
      "Correct prediction!\n"
     ]
    },
    {
     "data": {
      "text/plain": [
       "True"
      ]
     },
     "execution_count": 120,
     "metadata": {},
     "output_type": "execute_result"
    }
   ],
   "source": [
    "test_prediction(18, W1, b1, W2, b2)"
   ]
  },
  {
   "cell_type": "code",
   "execution_count": 124,
   "id": "36bda42b",
   "metadata": {
    "scrolled": true
   },
   "outputs": [
    {
     "name": "stdout",
     "output_type": "stream",
     "text": [
      "[0]\n",
      "Prediction:  arial\n",
      "Label:  arial\n",
      "Prediction numerical label:  [0]\n",
      "Numerical label:  0\n"
     ]
    },
    {
     "data": {
      "image/png": "[encoded data removed]",
      "text/plain": [
       "<Figure size 640x480 with 1 Axes>"
      ]
     },
     "metadata": {},
     "output_type": "display_data"
    },
    {
     "name": "stdout",
     "output_type": "stream",
     "text": [
      "Correct prediction!\n",
      "[7]\n",
      "Prediction:  comic\n",
      "Label:  comic\n",
      "Prediction numerical label:  [7]\n",
      "Numerical label:  7\n"
     ]
    },
    {
     "data": {
      "image/png": "[encoded data removed]",
      "text/plain": [
       "<Figure size 640x480 with 1 Axes>"
      ]
     },
     "metadata": {},
     "output_type": "display_data"
    },
    {
     "name": "stdout",
     "output_type": "stream",
     "text": [
      "Correct prediction!\n",
      "[6]\n",
      "Prediction:  mvboli\n",
      "Label:  mvboli\n",
      "Prediction numerical label:  [6]\n",
      "Numerical label:  6\n"
     ]
    },
    {
     "data": {
      "image/png": "[encoded data removed]",
      "text/plain": [
       "<Figure size 640x480 with 1 Axes>"
      ]
     },
     "metadata": {},
     "output_type": "display_data"
    },
    {
     "name": "stdout",
     "output_type": "stream",
     "text": [
      "Correct prediction!\n",
      "[9]\n",
      "Prediction:  constan\n",
      "Label:  constan\n",
      "Prediction numerical label:  [9]\n",
      "Numerical label:  9\n"
     ]
    },
    {
     "data": {
      "image/png": "[encoded data removed]",
      "text/plain": [
       "<Figure size 640x480 with 1 Axes>"
      ]
     },
     "metadata": {},
     "output_type": "display_data"
    },
    {
     "name": "stdout",
     "output_type": "stream",
     "text": [
      "Correct prediction!\n",
      "[4]\n",
      "Prediction:  ebrima\n",
      "Label:  ebrima\n",
      "Prediction numerical label:  [4]\n",
      "Numerical label:  4\n"
     ]
    },
    {
     "data": {
      "image/png": "[encoded data removed]",
      "text/plain": [
       "<Figure size 640x480 with 1 Axes>"
      ]
     },
     "metadata": {},
     "output_type": "display_data"
    },
    {
     "name": "stdout",
     "output_type": "stream",
     "text": [
      "Correct prediction!\n",
      "[7]\n",
      "Prediction:  comic\n",
      "Label:  comic\n",
      "Prediction numerical label:  [7]\n",
      "Numerical label:  7\n"
     ]
    },
    {
     "data": {
      "image/png": "[encoded data removed]",
      "text/plain": [
       "<Figure size 640x480 with 1 Axes>"
      ]
     },
     "metadata": {},
     "output_type": "display_data"
    },
    {
     "name": "stdout",
     "output_type": "stream",
     "text": [
      "Correct prediction!\n",
      "[7]\n",
      "Prediction:  comic\n",
      "Label:  comic\n",
      "Prediction numerical label:  [7]\n",
      "Numerical label:  7\n"
     ]
    },
    {
     "data": {
      "image/png": "[encoded data removed]",
      "text/plain": [
       "<Figure size 640x480 with 1 Axes>"
      ]
     },
     "metadata": {},
     "output_type": "display_data"
    },
    {
     "name": "stdout",
     "output_type": "stream",
     "text": [
      "Correct prediction!\n",
      "[6]\n",
      "Prediction:  mvboli\n",
      "Label:  mvboli\n",
      "Prediction numerical label:  [6]\n",
      "Numerical label:  6\n"
     ]
    },
    {
     "data": {
      "image/png": "[encoded data removed]",
      "text/plain": [
       "<Figure size 640x480 with 1 Axes>"
      ]
     },
     "metadata": {},
     "output_type": "display_data"
    },
    {
     "name": "stdout",
     "output_type": "stream",
     "text": [
      "Correct prediction!\n",
      "[4]\n",
      "Prediction:  ebrima\n",
      "Label:  ebrima\n",
      "Prediction numerical label:  [4]\n",
      "Numerical label:  4\n"
     ]
    },
    {
     "data": {
      "image/png": "[encoded data removed]",
      "text/plain": [
       "<Figure size 640x480 with 1 Axes>"
      ]
     },
     "metadata": {},
     "output_type": "display_data"
    },
    {
     "name": "stdout",
     "output_type": "stream",
     "text": [
      "Correct prediction!\n",
      "[7]\n",
      "Prediction:  comic\n",
      "Label:  comic\n",
      "Prediction numerical label:  [7]\n",
      "Numerical label:  7\n"
     ]
    },
    {
     "data": {
      "image/png": "[encoded data removed]",
      "text/plain": [
       "<Figure size 640x480 with 1 Axes>"
      ]
     },
     "metadata": {},
     "output_type": "display_data"
    },
    {
     "name": "stdout",
     "output_type": "stream",
     "text": [
      "Correct prediction!\n",
      "Accuracy: 1.0\n"
     ]
    }
   ],
   "source": [
    "#Getting accuracy of random parts of booted dataset\n",
    "num_of_iterations = 0\n",
    "correct_count = 0\n",
    "\n",
    "for iter in range(0, 10):\n",
    "    rand_sample = random.randint(0, 19)\n",
    "    num_of_iterations += 1\n",
    "    if test_prediction(rand_sample, W1, b1, W2, b2) == True:\n",
    "        correct_count += 1        \n",
    "accuracy = correct_count / num_of_iterations\n",
    "print(\"Accuracy: \" + str(accuracy))\n"
   ]
  },
  {
   "cell_type": "code",
   "execution_count": 68,
   "id": "03cdc48e",
   "metadata": {},
   "outputs": [],
   "source": [
    "#Use this code section for custom booted images\n",
    "def make_predictions(X, W1, b1, W2, b2):\n",
    "    _, _, _, A2 = forward_prop(W1, b1, W2, b2, X)\n",
    "    predictions = get_predictions(A2)\n",
    "    return predictions\n",
    "\n",
    "def test_prediction(my_image, W1, b1, W2, b2):\n",
    "    current_image = my_image\n",
    "    prediction = make_predictions(my_image, W1, b1, W2, b2)\n",
    "    \n",
    "    print(\"Prediction: \", label_dict[str(int(prediction))])\n",
    "    print(\"Prediction numerical label: \", prediction)\n",
    "    \n",
    "    current_image = current_image.reshape((28, 224)) * 255\n",
    "    plt.gray()\n",
    "    plt.imshow(current_image, interpolation='nearest')\n",
    "    plt.show()"
   ]
  },
  {
   "cell_type": "code",
   "execution_count": 72,
   "id": "7fa844fc",
   "metadata": {},
   "outputs": [
    {
     "name": "stdout",
     "output_type": "stream",
     "text": [
      "Prediction:  calibrii\n",
      "Prediction numerical label:  [1]\n"
     ]
    },
    {
     "data": {
      "image/png": "[encoded data removed]",
      "text/plain": [
       "<Figure size 640x480 with 1 Axes>"
      ]
     },
     "metadata": {},
     "output_type": "display_data"
    },
    {
     "data": {
      "text/plain": [
       "<matplotlib.image.AxesImage at 0x7f457cc89e40>"
      ]
     },
     "execution_count": 72,
     "metadata": {},
     "output_type": "execute_result"
    },
    {
     "data": {
      "image/png": "[encoded data removed]",
      "text/plain": [
       "<Figure size 640x480 with 1 Axes>"
      ]
     },
     "metadata": {},
     "output_type": "display_data"
    }
   ],
   "source": [
    "#Enter the name of your image, you want to check font of. \n",
    "\n",
    "#Your image has to be 224x28pixels!\n",
    "image_name = \"/home/zule/anaconda3/envs/AlpNum/Font-Recognizer/Renders/arial.ttf29.png\"\n",
    "image = cv.imread(image_name)\n",
    "cv_image = cv.cvtColor(np.array(image), cv.COLOR_RGB2BGR)\n",
    "cv_image_gs = cv.cvtColor(cv_image, cv.COLOR_BGR2GRAY)\n",
    "\n",
    "#If you have white background use this line of code\n",
    "#cv_image_gs = ~cv_image_gs\n",
    "\n",
    "image_array = np.asarray(cv_image_gs)\n",
    "oneDimensionArray = image_array.flatten()\n",
    "oneDimensionArray = oneDimensionArray / 255\n",
    "\n",
    "oneDimensionArray = np.reshape(oneDimensionArray, (-1, 1))\n",
    "\n",
    "test_prediction(oneDimensionArray, W1, b1, W2, b2)\n",
    "plt.imshow(cv_image_gs, cmap='gray')\n",
    "\n",
    "\n",
    "\n"
   ]
  },
  {
   "cell_type": "code",
   "execution_count": null,
   "id": "3568e2ff",
   "metadata": {},
   "outputs": [],
   "source": [
    "# Save params from a file\n",
    "import pickle\n",
    "\n",
    "# After training the model, save the parameters\n",
    "def save_params(W1, b1, W2, b2):\n",
    "    params = {\"W1\": W1, \"b1\": b1, \"W2\": W2, \"b2\": b2}\n",
    "    \n",
    "    with open(my_dir_path + \"/params.pkl\", \"wb\") as f:\n",
    "        pickle.dump(params, f)\n",
    "\n",
    "save_params(W1, b1, W2, b2)\n",
    "\n",
    "print(W1, b1, W2, b2)"
   ]
  },
  {
   "cell_type": "code",
   "execution_count": null,
   "id": "acf5e437",
   "metadata": {},
   "outputs": [],
   "source": [
    "# Load parameters from a file\n",
    "def load_params():\n",
    "    with open(my_dir_path + \"/params.pkl\", \"rb\") as f:\n",
    "        params = pickle.load(f)\n",
    "        \n",
    "    return params[\"W1\"], params[\"b1\"], params[\"W2\"], params[\"b2\"]\n",
    "\n",
    "# Use it like this\n",
    "W1, b1, W2, b2 = load_params()"
   ]
  },
  {
   "cell_type": "code",
   "execution_count": null,
   "id": "6ef9da8a",
   "metadata": {},
   "outputs": [],
   "source": []
  }
 ],
 "metadata": {
  "kernelspec": {
   "display_name": "Python 3 (ipykernel)",
   "language": "python",
   "name": "python3"
  },
  "language_info": {
   "codemirror_mode": {
    "name": "ipython",
    "version": 3
   },
   "file_extension": ".py",
   "mimetype": "text/x-python",
   "name": "python",
   "nbconvert_exporter": "python",
   "pygments_lexer": "ipython3",
   "version": "3.10.11"
  }
 },
 "nbformat": 4,
 "nbformat_minor": 5
}
